{
 "cells": [
  {
   "cell_type": "code",
   "execution_count": 4,
   "id": "dea6c16d",
   "metadata": {},
   "outputs": [],
   "source": [
    "import pandas as pd\n",
    "import numpy as np\n",
    "import ast\n",
    "import nltk\n",
    "import pickle \n",
    "from nltk.stem.porter import PorterStemmer\n",
    "from sklearn.feature_extraction.text import CountVectorizer\n",
    "from sklearn.metrics.pairwise import cosine_similarity"
   ]
  },
  {
   "cell_type": "code",
   "execution_count": 5,
   "id": "52a297f6",
   "metadata": {},
   "outputs": [],
   "source": [
    "movies = pd.read_csv(\"movies.csv\")\n",
    "credit = pd.read_csv(\"Creditscsv.csv\",low_memory=False)"
   ]
  },
  {
   "cell_type": "code",
   "execution_count": 6,
   "id": "88b5a91b",
   "metadata": {},
   "outputs": [],
   "source": [
    "thesoldFreq = 9.0\n",
    "removeColums = credit.columns[credit.isnull().sum() > thesoldFreq]\n",
    "credit = credit.drop(removeColums,axis=1)"
   ]
  },
  {
   "cell_type": "markdown",
   "id": "2b1be6f5",
   "metadata": {},
   "source": [
    "# we merged the data\n",
    "-> Don't use unnessary terms for merging the data: like tuple(2,3) they does't merge\n",
    "\n",
    "# merging col\n",
    "-> geners\n",
    "-> id\n",
    "-> keywords\n",
    "->title\n",
    "->overview\n",
    "-> cast\n",
    "-> crew"
   ]
  },
  {
   "cell_type": "code",
   "execution_count": 7,
   "id": "3cb290af",
   "metadata": {},
   "outputs": [],
   "source": [
    "movie = movies.merge(credit,on='title')"
   ]
  },
  {
   "cell_type": "code",
   "execution_count": 8,
   "id": "3391dd38",
   "metadata": {},
   "outputs": [],
   "source": [
    "movie= movie[['movie_id','title','genres','keywords','overview','cast','crew']]"
   ]
  },
  {
   "cell_type": "code",
   "execution_count": 9,
   "id": "ffc68cdb",
   "metadata": {},
   "outputs": [
    {
     "data": {
      "text/plain": [
       "array(['[{\"id\": 28, \"name\": \"Action\"}, {\"id\": 12, \"name\": \"Adventure\"}, {\"id\": 14, \"name\": \"Fantasy\"}, {\"id\": 878, \"name\": \"Science Fiction\"}]',\n",
       "       '[{\"id\": 12, \"name\": \"Adventure\"}, {\"id\": 14, \"name\": \"Fantasy\"}, {\"id\": 28, \"name\": \"Action\"}]',\n",
       "       '[{\"id\": 28, \"name\": \"Action\"}, {\"id\": 12, \"name\": \"Adventure\"}, {\"id\": 80, \"name\": \"Crime\"}]',\n",
       "       ...,\n",
       "       '[{\"id\": 35, \"name\": \"Comedy\"}, {\"id\": 18, \"name\": \"Drama\"}, {\"id\": 10749, \"name\": \"Romance\"}, {\"id\": 10770, \"name\": \"TV Movie\"}]',\n",
       "       '[]', '[{\"id\": 99, \"name\": \"Documentary\"}]'], dtype=object)"
      ]
     },
     "execution_count": 9,
     "metadata": {},
     "output_type": "execute_result"
    }
   ],
   "source": [
    "movie['genres'].values"
   ]
  },
  {
   "cell_type": "code",
   "execution_count": 10,
   "id": "e13610eb",
   "metadata": {},
   "outputs": [],
   "source": [
    "# preposing"
   ]
  },
  {
   "cell_type": "code",
   "execution_count": 11,
   "id": "8e9cbeda",
   "metadata": {},
   "outputs": [
    {
     "data": {
      "text/plain": [
       "movie_id    0\n",
       "title       0\n",
       "genres      0\n",
       "keywords    0\n",
       "overview    3\n",
       "cast        0\n",
       "crew        4\n",
       "dtype: int64"
      ]
     },
     "execution_count": 11,
     "metadata": {},
     "output_type": "execute_result"
    }
   ],
   "source": [
    "movie.isnull().sum()"
   ]
  },
  {
   "cell_type": "code",
   "execution_count": 12,
   "id": "e33fee59",
   "metadata": {},
   "outputs": [],
   "source": [
    "movie.dropna(inplace=True)"
   ]
  },
  {
   "cell_type": "code",
   "execution_count": 13,
   "id": "cf1d960e",
   "metadata": {},
   "outputs": [],
   "source": [
    "def convert(obj):\n",
    "    res=[]\n",
    "    for i in ast.literal_eval(obj):\n",
    "        res.append(i['name'])\n",
    "    return res "
   ]
  },
  {
   "cell_type": "code",
   "execution_count": 14,
   "id": "67f7f947",
   "metadata": {},
   "outputs": [],
   "source": [
    "movie['genres'] = movie['genres'].apply(convert)\n",
    "movie['keywords'] = movie['keywords'].apply(convert)"
   ]
  },
  {
   "cell_type": "code",
   "execution_count": 15,
   "id": "fdd75c95",
   "metadata": {},
   "outputs": [],
   "source": [
    "def convert1(obj):\n",
    "    res=[]\n",
    "    count = 0\n",
    "    for i in ast.literal_eval(obj):\n",
    "        if count != 3:\n",
    "            res.append(i['name'])\n",
    "            count+=1\n",
    "    return res \n"
   ]
  },
  {
   "cell_type": "code",
   "execution_count": 16,
   "id": "dfce9ac7",
   "metadata": {},
   "outputs": [],
   "source": [
    "movie['cast']=movie['cast'].apply(convert1)"
   ]
  },
  {
   "cell_type": "code",
   "execution_count": 17,
   "id": "02b0279b",
   "metadata": {},
   "outputs": [],
   "source": [
    "def convert2(obj):\n",
    "    res = []\n",
    "    crew_list = ast.literal_eval(obj)  # Convert the string to a list of dictionaries    \n",
    "    for i in crew_list:\n",
    "        if \"director\" in i['job'].lower():\n",
    "            res.append(i['job']) \n",
    "    return res"
   ]
  },
  {
   "cell_type": "code",
   "execution_count": 18,
   "id": "365deeaf",
   "metadata": {},
   "outputs": [],
   "source": [
    "movie['overview']=movie['overview'].apply(lambda x:x.split())"
   ]
  },
  {
   "cell_type": "code",
   "execution_count": 19,
   "id": "67f1107b",
   "metadata": {},
   "outputs": [],
   "source": [
    "movie['genres']=movie['genres'].apply(lambda x:[i.replace(' ', \"\")for i in x])\n",
    "movie['keywords']=movie['keywords'].apply(lambda x:[i.replace(' ', \"\")for i in x])\n",
    "movie['cast']=movie['cast'].apply(lambda x:[i.replace(' ', \"\")for i in x])\n",
    "# movie['genres'].apply(lambda x:[i.replace(' ', \"\")for i in x])"
   ]
  },
  {
   "cell_type": "code",
   "execution_count": 20,
   "id": "27bde57d",
   "metadata": {},
   "outputs": [],
   "source": [
    "movie['tags'] = movie['genres'] + movie['keywords'] +movie['cast']+ movie['overview']"
   ]
  },
  {
   "cell_type": "code",
   "execution_count": 21,
   "id": "ce6940c3",
   "metadata": {},
   "outputs": [],
   "source": [
    "new_df = movie[['movie_id','title','tags']]"
   ]
  },
  {
   "cell_type": "code",
   "execution_count": 22,
   "id": "28c5a934",
   "metadata": {},
   "outputs": [
    {
     "name": "stderr",
     "output_type": "stream",
     "text": [
      "C:\\Users\\tulsi\\AppData\\Local\\Temp\\ipykernel_24240\\487797088.py:1: SettingWithCopyWarning: \n",
      "A value is trying to be set on a copy of a slice from a DataFrame.\n",
      "Try using .loc[row_indexer,col_indexer] = value instead\n",
      "\n",
      "See the caveats in the documentation: https://pandas.pydata.org/pandas-docs/stable/user_guide/indexing.html#returning-a-view-versus-a-copy\n",
      "  new_df['tags']=new_df['tags'].apply(lambda x:\" \".join(x))\n"
     ]
    }
   ],
   "source": [
    "new_df['tags']=new_df['tags'].apply(lambda x:\" \".join(x))"
   ]
  },
  {
   "cell_type": "code",
   "execution_count": 23,
   "id": "4738c16b",
   "metadata": {},
   "outputs": [
    {
     "name": "stderr",
     "output_type": "stream",
     "text": [
      "C:\\Users\\tulsi\\AppData\\Local\\Temp\\ipykernel_24240\\1495590577.py:1: SettingWithCopyWarning: \n",
      "A value is trying to be set on a copy of a slice from a DataFrame.\n",
      "Try using .loc[row_indexer,col_indexer] = value instead\n",
      "\n",
      "See the caveats in the documentation: https://pandas.pydata.org/pandas-docs/stable/user_guide/indexing.html#returning-a-view-versus-a-copy\n",
      "  new_df['tags']=new_df['tags'].apply(lambda x:x .lower())\n"
     ]
    }
   ],
   "source": [
    "new_df['tags']=new_df['tags'].apply(lambda x:x .lower())"
   ]
  },
  {
   "cell_type": "markdown",
   "id": "5c3808ef",
   "metadata": {},
   "source": [
    "# vectorization\n",
    "# bag of words\n",
    "text vector "
   ]
  },
  {
   "cell_type": "code",
   "execution_count": 24,
   "id": "4e897efc",
   "metadata": {},
   "outputs": [],
   "source": [
    "cv= CountVectorizer(max_features=5000,stop_words='english')"
   ]
  },
  {
   "cell_type": "code",
   "execution_count": 25,
   "id": "1d6cdd8e",
   "metadata": {},
   "outputs": [],
   "source": [
    "vectors = cv.fit_transform(new_df['tags']).toarray()"
   ]
  },
  {
   "cell_type": "code",
   "execution_count": 26,
   "id": "a1d92ed6",
   "metadata": {},
   "outputs": [],
   "source": [
    "feature_names = cv.get_feature_names_out()"
   ]
  },
  {
   "cell_type": "code",
   "execution_count": 27,
   "id": "fdcf0f6d",
   "metadata": {},
   "outputs": [],
   "source": [
    "ps = PorterStemmer()"
   ]
  },
  {
   "cell_type": "code",
   "execution_count": 28,
   "id": "8fb54ff0",
   "metadata": {},
   "outputs": [],
   "source": [
    "def stem(text):\n",
    "    y = []\n",
    "    for i in text.split():\n",
    "        y.append(ps.stem(i))\n",
    "    return ' '.join(y) "
   ]
  },
  {
   "cell_type": "code",
   "execution_count": 29,
   "id": "e415e807",
   "metadata": {
    "scrolled": true
   },
   "outputs": [
    {
     "data": {
      "text/plain": [
       "0       action adventur fantasi sciencefict culturecla...\n",
       "1       adventur fantasi action ocean drugabus exotici...\n",
       "2       action adventur crime spi basedonnovel secreta...\n",
       "3       action crime drama thriller dccomic crimefight...\n",
       "4       action adventur sciencefict basedonnovel mar m...\n",
       "                              ...                        \n",
       "4804    action crime thriller unitedstates–mexicobarri...\n",
       "4805    comedi romanc edwardburn kerrybishé marshadiet...\n",
       "4806    comedi drama romanc tvmovi date loveatfirstsig...\n",
       "4807    danielhenney elizacoup billpaxton when ambiti ...\n",
       "4808    documentari obsess camcord crush dreamgirl dre...\n",
       "Name: tags, Length: 4802, dtype: object"
      ]
     },
     "execution_count": 29,
     "metadata": {},
     "output_type": "execute_result"
    }
   ],
   "source": [
    "new_df['tags'].apply(stem)"
   ]
  },
  {
   "cell_type": "code",
   "execution_count": 30,
   "id": "b9678ce5",
   "metadata": {},
   "outputs": [],
   "source": [
    "similarity = cosine_similarity(vectors)"
   ]
  },
  {
   "cell_type": "markdown",
   "id": "bf2e19f7",
   "metadata": {},
   "source": [
    "we go to dataset throung Index -> Similarity-> sort-> top 5 movie should be fatched"
   ]
  },
  {
   "cell_type": "code",
   "execution_count": 31,
   "id": "681f1773",
   "metadata": {},
   "outputs": [],
   "source": [
    "def recommend(movies):\n",
    "    movie_index = new_df[new_df['title'] == movies].index[0]\n",
    "    distance =similarity[movie_index]\n",
    "    movies_list = sorted(list(enumerate(distance)),reverse=True,key=lambda x:x[1])[1:11]\n",
    "    for i in movies_list:\n",
    "        print(new_df.iloc[i[0]].title)"
   ]
  },
  {
   "cell_type": "code",
   "execution_count": 32,
   "id": "bd7d8fc0",
   "metadata": {
    "scrolled": true
   },
   "outputs": [
    {
     "name": "stdout",
     "output_type": "stream",
     "text": [
      "The Dark Knight\n",
      "The Dark Knight Rises\n",
      "Batman\n",
      "Batman & Robin\n",
      "Batman\n",
      "Amidst the Devil's Wings\n",
      "Batman v Superman: Dawn of Justice\n",
      "Defendor\n",
      "Mi America\n",
      "Batman Returns\n"
     ]
    }
   ],
   "source": [
    "recommend(\"Batman Begins\")"
   ]
  },
  {
   "cell_type": "code",
   "execution_count": 3,
   "id": "4f9db418",
   "metadata": {},
   "outputs": [],
   "source": [
    "# pickle.dump(new_df,open('movies.pkl','wb'))"
   ]
  },
  {
   "cell_type": "code",
   "execution_count": 33,
   "id": "d02e6006",
   "metadata": {},
   "outputs": [],
   "source": [
    "pickle.dump(new_df.to_dict(),open('movies_dict.pkl','wb'))"
   ]
  },
  {
   "cell_type": "code",
   "execution_count": 34,
   "id": "1b89b676",
   "metadata": {},
   "outputs": [],
   "source": [
    "pickle.dump(similarity,open('similarity.pkl','wb'))"
   ]
  },
  {
   "cell_type": "code",
   "execution_count": 35,
   "id": "2a617c83",
   "metadata": {},
   "outputs": [
    {
     "data": {
      "text/html": [
       "<div>\n",
       "<style scoped>\n",
       "    .dataframe tbody tr th:only-of-type {\n",
       "        vertical-align: middle;\n",
       "    }\n",
       "\n",
       "    .dataframe tbody tr th {\n",
       "        vertical-align: top;\n",
       "    }\n",
       "\n",
       "    .dataframe thead th {\n",
       "        text-align: right;\n",
       "    }\n",
       "</style>\n",
       "<table border=\"1\" class=\"dataframe\">\n",
       "  <thead>\n",
       "    <tr style=\"text-align: right;\">\n",
       "      <th></th>\n",
       "      <th>movie_id</th>\n",
       "      <th>title</th>\n",
       "      <th>tags</th>\n",
       "    </tr>\n",
       "  </thead>\n",
       "  <tbody>\n",
       "    <tr>\n",
       "      <th>1516</th>\n",
       "      <td>11519</td>\n",
       "      <td>1941</td>\n",
       "      <td>action comedy submarine california worldwarii ...</td>\n",
       "    </tr>\n",
       "  </tbody>\n",
       "</table>\n",
       "</div>"
      ],
      "text/plain": [
       "     movie_id title                                               tags\n",
       "1516    11519  1941  action comedy submarine california worldwarii ..."
      ]
     },
     "execution_count": 35,
     "metadata": {},
     "output_type": "execute_result"
    }
   ],
   "source": [
    "new_df.sample()"
   ]
  },
  {
   "cell_type": "code",
   "execution_count": null,
   "id": "e7e511bb",
   "metadata": {},
   "outputs": [],
   "source": []
  },
  {
   "cell_type": "code",
   "execution_count": null,
   "id": "10d8cf06",
   "metadata": {},
   "outputs": [],
   "source": []
  }
 ],
 "metadata": {
  "kernelspec": {
   "display_name": "Python 3 (ipykernel)",
   "language": "python",
   "name": "python3"
  },
  "language_info": {
   "codemirror_mode": {
    "name": "ipython",
    "version": 3
   },
   "file_extension": ".py",
   "mimetype": "text/x-python",
   "name": "python",
   "nbconvert_exporter": "python",
   "pygments_lexer": "ipython3",
   "version": "3.11.3"
  }
 },
 "nbformat": 4,
 "nbformat_minor": 5
}
